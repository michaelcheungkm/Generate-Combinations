{
 "cells": [
  {
   "cell_type": "markdown",
   "metadata": {},
   "source": [
    "## Generate combinations"
   ]
  },
  {
   "cell_type": "code",
   "execution_count": 2,
   "metadata": {},
   "outputs": [],
   "source": [
    "import numpy as np\n",
    "import itertools"
   ]
  },
  {
   "cell_type": "code",
   "execution_count": 3,
   "metadata": {},
   "outputs": [],
   "source": [
    "qt = np.array([0.9,0.95,0.97,0.98,0.99])\n",
    "th = np.array([0.005,0.01,0.02,0.03,0.05,0.08,0.1,0.15])\n",
    "dd = np.array([2,3,5,7,8,10])\n",
    "pct = np.array([0.9,0.95,0.97,0.99,1])"
   ]
  },
  {
   "cell_type": "markdown",
   "metadata": {},
   "source": [
    "### Solution 1"
   ]
  },
  {
   "cell_type": "code",
   "execution_count": 5,
   "metadata": {},
   "outputs": [
    {
     "data": {
      "text/plain": [
       "[(0.9, 0.005, 2, 0.9),\n",
       " (0.9, 0.005, 2, 0.95),\n",
       " (0.9, 0.005, 2, 0.97),\n",
       " (0.9, 0.005, 2, 0.99),\n",
       " (0.9, 0.005, 2, 1.0),\n",
       " (0.9, 0.005, 3, 0.9),\n",
       " (0.9, 0.005, 3, 0.95),\n",
       " (0.9, 0.005, 3, 0.97),\n",
       " (0.9, 0.005, 3, 0.99),\n",
       " (0.9, 0.005, 3, 1.0)]"
      ]
     },
     "execution_count": 5,
     "metadata": {},
     "output_type": "execute_result"
    }
   ],
   "source": [
    "a = [qt,th,dd, pct]\n",
    "b = list(itertools.product(*a))\n",
    "b[:10]"
   ]
  },
  {
   "cell_type": "markdown",
   "metadata": {},
   "source": [
    "### Solution 2"
   ]
  },
  {
   "cell_type": "code",
   "execution_count": 6,
   "metadata": {},
   "outputs": [],
   "source": [
    "def cartesian(*arrays):\n",
    "    mesh = np.meshgrid(*arrays)  # standard numpy meshgrid\n",
    "    dim = len(mesh)  # number of dimensions\n",
    "    elements = mesh[0].size  # number of elements, any index will do\n",
    "    flat = np.concatenate(mesh).ravel()  # flatten the whole meshgrid\n",
    "    reshape = np.reshape(flat, (dim, elements)).T  # reshape and transpose\n",
    "    return tuple(reshape)"
   ]
  },
  {
   "cell_type": "code",
   "execution_count": 8,
   "metadata": {},
   "outputs": [
    {
     "data": {
      "text/plain": [
       "(array([0.9  , 0.005, 2.   , 0.9  ]),\n",
       " array([0.9  , 0.005, 2.   , 0.95 ]),\n",
       " array([0.9  , 0.005, 2.   , 0.97 ]),\n",
       " array([0.9  , 0.005, 2.   , 0.99 ]),\n",
       " array([0.9  , 0.005, 2.   , 1.   ]),\n",
       " array([0.9  , 0.005, 3.   , 0.9  ]),\n",
       " array([0.9  , 0.005, 3.   , 0.95 ]),\n",
       " array([0.9  , 0.005, 3.   , 0.97 ]),\n",
       " array([0.9  , 0.005, 3.   , 0.99 ]),\n",
       " array([0.9  , 0.005, 3.   , 1.   ]))"
      ]
     },
     "execution_count": 8,
     "metadata": {},
     "output_type": "execute_result"
    }
   ],
   "source": [
    "cartesian(qt,th,dd,pct)[:10]"
   ]
  },
  {
   "cell_type": "code",
   "execution_count": null,
   "metadata": {},
   "outputs": [],
   "source": []
  }
 ],
 "metadata": {
  "kernelspec": {
   "display_name": "Python 3",
   "language": "python",
   "name": "python3"
  },
  "language_info": {
   "codemirror_mode": {
    "name": "ipython",
    "version": 3
   },
   "file_extension": ".py",
   "mimetype": "text/x-python",
   "name": "python",
   "nbconvert_exporter": "python",
   "pygments_lexer": "ipython3",
   "version": "3.7.3"
  }
 },
 "nbformat": 4,
 "nbformat_minor": 2
}
